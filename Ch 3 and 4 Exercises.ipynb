{
 "cells": [
  {
   "cell_type": "markdown",
   "id": "f5d59131-b346-4677-b888-50d7e6daa16f",
   "metadata": {},
   "source": [
    "## Ch 3\n",
    "Exercise 2: Rewrite your pay program using try and except so that your\n",
    "program handles non-numeric input gracefully by printing a message\n",
    "and exiting the program. The following shows two executions of the\n",
    "program:"
   ]
  },
  {
   "cell_type": "code",
   "execution_count": 5,
   "id": "1cafc1e9-0844-44fb-af7c-861582b47a84",
   "metadata": {
    "collapsed": true,
    "jupyter": {
     "outputs_hidden": true
    }
   },
   "outputs": [
    {
     "name": "stdin",
     "output_type": "stream",
     "text": [
      "What are your hours?\n",
      " 50\n",
      "What is your rate?\n",
      " python\n"
     ]
    },
    {
     "name": "stdout",
     "output_type": "stream",
     "text": [
      "That is not a valid number. Please try again\n"
     ]
    }
   ],
   "source": [
    "try:\n",
    "    hours = float(input(\"What are your hours?\\n\"))\n",
    "    rate = float(input(\"What is your rate?\\n\"))\n",
    "    if hours >= 40:\n",
    "        pay = (hours-40)*rate*1.5 + 40*rate\n",
    "    else:\n",
    "        pay = hours * rate\n",
    "    print(f\"Your pay is: {pay}\")\n",
    "except:\n",
    "    print(\"That is not a valid number. Please try again\")"
   ]
  },
  {
   "cell_type": "markdown",
   "id": "d0c6d45c-6c87-4077-ae11-1fc079ac234d",
   "metadata": {},
   "source": [
    "## Ch 4\n",
    "Exercise 5: What will the following Python program print out?\n",
    "\n",
    "def fred():\n",
    "\n",
    "print(\"Zap\")\n",
    "\n",
    "def jane():\n",
    "\n",
    "print(\"ABC\")\n",
    "\n",
    "jane()\n",
    "\n",
    "fred()\n",
    "\n",
    "jane()"
   ]
  },
  {
   "cell_type": "code",
   "execution_count": 6,
   "id": "07cbfef5-0cd3-4f83-b540-01db306037d0",
   "metadata": {},
   "outputs": [
    {
     "name": "stdout",
     "output_type": "stream",
     "text": [
      "ABC\n",
      "Zap\n",
      "ABC\n"
     ]
    }
   ],
   "source": [
    "def fred():\n",
    "    print(\"Zap\")\n",
    "def jane():\n",
    "    print(\"ABC\")\n",
    "\n",
    "jane()\n",
    "fred()\n",
    "jane()"
   ]
  },
  {
   "cell_type": "markdown",
   "id": "2ad66682-b0fb-4d44-a1b3-bf6825ad375f",
   "metadata": {},
   "source": [
    "Exercise 6: Rewrite your pay computation with time-and-a-half for over-\n",
    "time and create a function called computepay which takes two parameters\n",
    "(hours and rate)."
   ]
  },
  {
   "cell_type": "code",
   "execution_count": 7,
   "id": "3e608037-a319-44c9-ba1f-f00696ce05d3",
   "metadata": {},
   "outputs": [],
   "source": [
    "def computepay(hours, rate):\n",
    "    try:\n",
    "        hours = float(hours)\n",
    "        rate = float(rate)\n",
    "        if hours >= 40:\n",
    "            pay = (hours-40)*rate*1.5 + 40*rate\n",
    "        else:\n",
    "            pay = hours * rate\n",
    "        print(f\"Your pay is: {pay}\")\n",
    "    except:\n",
    "        print(\"That is not a valid number. Please try again\")"
   ]
  },
  {
   "cell_type": "code",
   "execution_count": 8,
   "id": "06ddfe16-c24a-429e-b5e9-c87e5ef81980",
   "metadata": {},
   "outputs": [
    {
     "name": "stdout",
     "output_type": "stream",
     "text": [
      "Your pay is: 550.0\n"
     ]
    }
   ],
   "source": [
    "computepay(50, 10)"
   ]
  },
  {
   "cell_type": "code",
   "execution_count": 9,
   "id": "6195a0cd-3405-4310-801e-149020031c29",
   "metadata": {},
   "outputs": [
    {
     "name": "stdout",
     "output_type": "stream",
     "text": [
      "That is not a valid number. Please try again\n"
     ]
    }
   ],
   "source": [
    "computepay(50, \"Python\")"
   ]
  },
  {
   "cell_type": "code",
   "execution_count": 10,
   "id": "391569e3-ac08-439b-ac6f-fe2428ed3d88",
   "metadata": {},
   "outputs": [],
   "source": [
    "def computepay(hours, rate):\n",
    "    try:\n",
    "        hours = float(hours)\n",
    "    except:\n",
    "        print(\"Please enter a valid number for the hours\")\n",
    "        return\n",
    "    try:\n",
    "        rate = float(rate)\n",
    "    except:\n",
    "        print(\"Please enter a valid number for the rate\")\n",
    "        return    \n",
    "    if hours >= 40:\n",
    "        pay = (hours-40)*rate*1.5 + 40*rate\n",
    "    else:\n",
    "        pay = hours * rate\n",
    "    print(f\"Your pay is: {pay}\")"
   ]
  },
  {
   "cell_type": "code",
   "execution_count": 11,
   "id": "702e8f3b-a9b4-46c8-a0a3-d03cbcab7ca2",
   "metadata": {},
   "outputs": [
    {
     "name": "stdout",
     "output_type": "stream",
     "text": [
      "Your pay is: 550.0\n"
     ]
    }
   ],
   "source": [
    "computepay(50, 10)"
   ]
  },
  {
   "cell_type": "code",
   "execution_count": 12,
   "id": "13c83482-da99-4795-bf78-19e8871f2e94",
   "metadata": {},
   "outputs": [
    {
     "name": "stdout",
     "output_type": "stream",
     "text": [
      "Please enter a valid number for the rate\n"
     ]
    }
   ],
   "source": [
    "computepay(50, \"Python\")"
   ]
  },
  {
   "cell_type": "code",
   "execution_count": 13,
   "id": "38cd6f6b-1b10-4ce3-b358-7fe2a7eba5cc",
   "metadata": {},
   "outputs": [
    {
     "name": "stdout",
     "output_type": "stream",
     "text": [
      "Please enter a valid number for the hours\n"
     ]
    }
   ],
   "source": [
    "computepay(\"Python\", 10)"
   ]
  },
  {
   "cell_type": "markdown",
   "id": "67059717-ee0c-43f1-8266-10539c6ae5bb",
   "metadata": {},
   "source": [
    "Exercise 7: Rewrite the grade program from the previous chapter using\n",
    "a function called computegrade that takes a score as its parameter and\n",
    "returns a grade as a string."
   ]
  },
  {
   "cell_type": "code",
   "execution_count": 14,
   "id": "fd9dc2eb-85bb-43fd-b880-7f8e3d9bd8a8",
   "metadata": {},
   "outputs": [],
   "source": [
    "# score = float(input(\"What is your score?\\n\"))\n",
    "def computegrade(score):\n",
    "    if score > 1 or score < 0:\n",
    "        print(\"Sorry, that score is out of range.\")\n",
    "    elif score >= 0.9:\n",
    "        return \"A\"\n",
    "    elif score >= 0.8:\n",
    "        return \"B\"\n",
    "    elif score >= 0.7:\n",
    "        return \"C\"\n",
    "    elif score >= 0.6:\n",
    "        return \"D\"\n",
    "    else:\n",
    "        return \"F\""
   ]
  },
  {
   "cell_type": "code",
   "execution_count": 15,
   "id": "0bd980b4-ca0f-4e29-802f-17e77192595b",
   "metadata": {},
   "outputs": [
    {
     "name": "stdout",
     "output_type": "stream",
     "text": [
      "Sorry, that score is out of range.\n"
     ]
    }
   ],
   "source": [
    "computegrade(2)"
   ]
  },
  {
   "cell_type": "code",
   "execution_count": 16,
   "id": "a7ecf25b-3770-43fe-9b64-f57c4fed1760",
   "metadata": {},
   "outputs": [
    {
     "data": {
      "text/plain": [
       "'F'"
      ]
     },
     "execution_count": 16,
     "metadata": {},
     "output_type": "execute_result"
    }
   ],
   "source": [
    "computegrade(.2)"
   ]
  },
  {
   "cell_type": "code",
   "execution_count": 17,
   "id": "0b019e32-e69f-45a2-a74a-6f41f6fe5588",
   "metadata": {},
   "outputs": [
    {
     "data": {
      "text/plain": [
       "'C'"
      ]
     },
     "execution_count": 17,
     "metadata": {},
     "output_type": "execute_result"
    }
   ],
   "source": [
    "computegrade(0.76)"
   ]
  },
  {
   "cell_type": "code",
   "execution_count": 18,
   "id": "e55ec5d9-8c72-4924-b6a0-4886cf893079",
   "metadata": {},
   "outputs": [],
   "source": [
    "highGrade = computegrade(0.8)"
   ]
  },
  {
   "cell_type": "code",
   "execution_count": 19,
   "id": "80c40583-f573-49a7-96ab-868eede8a045",
   "metadata": {},
   "outputs": [
    {
     "data": {
      "text/plain": [
       "'B'"
      ]
     },
     "execution_count": 19,
     "metadata": {},
     "output_type": "execute_result"
    }
   ],
   "source": [
    "highGrade"
   ]
  },
  {
   "cell_type": "code",
   "execution_count": null,
   "id": "15402025-4b57-42e7-8a47-5c27ff9896eb",
   "metadata": {},
   "outputs": [],
   "source": []
  }
 ],
 "metadata": {
  "kernelspec": {
   "display_name": "Python 3 (ipykernel)",
   "language": "python",
   "name": "python3"
  },
  "language_info": {
   "codemirror_mode": {
    "name": "ipython",
    "version": 3
   },
   "file_extension": ".py",
   "mimetype": "text/x-python",
   "name": "python",
   "nbconvert_exporter": "python",
   "pygments_lexer": "ipython3",
   "version": "3.12.5"
  }
 },
 "nbformat": 4,
 "nbformat_minor": 5
}
