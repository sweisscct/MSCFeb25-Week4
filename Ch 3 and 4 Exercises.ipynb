{
 "cells": [
  {
   "cell_type": "markdown",
   "id": "f5d59131-b346-4677-b888-50d7e6daa16f",
   "metadata": {},
   "source": [
    "## Ch 3\n",
    "Exercise 2: Rewrite your pay program using try and except so that your\n",
    "program handles non-numeric input gracefully by printing a message\n",
    "and exiting the program. The following shows two executions of the\n",
    "program:"
   ]
  },
  {
   "cell_type": "code",
   "execution_count": 5,
   "id": "1cafc1e9-0844-44fb-af7c-861582b47a84",
   "metadata": {},
   "outputs": [
    {
     "name": "stdin",
     "output_type": "stream",
     "text": [
      "What are your hours?\n",
      " 50\n",
      "What is your rate?\n",
      " python\n"
     ]
    },
    {
     "name": "stdout",
     "output_type": "stream",
     "text": [
      "That is not a valid number. Please try again\n"
     ]
    }
   ],
   "source": [
    "try:\n",
    "    hours = float(input(\"What are your hours?\\n\"))\n",
    "    rate = float(input(\"What is your rate?\\n\"))\n",
    "    if hours >= 40:\n",
    "        pay = (hours-40)*rate*1.5 + 40*rate\n",
    "    else:\n",
    "        pay = hours * rate\n",
    "    print(f\"Your pay is: {pay}\")\n",
    "except:\n",
    "    print(\"That is not a valid number. Please try again\")"
   ]
  },
  {
   "cell_type": "code",
   "execution_count": null,
   "id": "c897fe54-0de5-471a-9e96-742c4fc67b54",
   "metadata": {},
   "outputs": [],
   "source": []
  }
 ],
 "metadata": {
  "kernelspec": {
   "display_name": "Python 3 (ipykernel)",
   "language": "python",
   "name": "python3"
  },
  "language_info": {
   "codemirror_mode": {
    "name": "ipython",
    "version": 3
   },
   "file_extension": ".py",
   "mimetype": "text/x-python",
   "name": "python",
   "nbconvert_exporter": "python",
   "pygments_lexer": "ipython3",
   "version": "3.12.5"
  }
 },
 "nbformat": 4,
 "nbformat_minor": 5
}
